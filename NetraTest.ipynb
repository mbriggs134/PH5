{
  "nbformat": 4,
  "nbformat_minor": 0,
  "metadata": {
    "colab": {
      "name": "NetraTest.ipynb",
      "provenance": [],
      "collapsed_sections": [],
      "authorship_tag": "ABX9TyMNWyzdCMva78hTCfGgABWE",
      "include_colab_link": true
    },
    "kernelspec": {
      "name": "python3",
      "display_name": "Python 3"
    }
  },
  "cells": [
    {
      "cell_type": "markdown",
      "metadata": {
        "id": "view-in-github",
        "colab_type": "text"
      },
      "source": [
        "<a href=\"https://colab.research.google.com/github/mbriggs134/PH5/blob/master/NetraTest.ipynb\" target=\"_parent\"><img src=\"https://colab.research.google.com/assets/colab-badge.svg\" alt=\"Open In Colab\"/></a>"
      ]
    },
    {
      "cell_type": "code",
      "metadata": {
        "id": "5nBMoS8gmT60",
        "colab_type": "code",
        "colab": {
          "base_uri": "https://localhost:8080/",
          "height": 292
        },
        "outputId": "67378e39-30bc-47f3-b1f4-0756db28f0f3"
      },
      "source": [
        "!pip install hrv-analysis"
      ],
      "execution_count": 20,
      "outputs": [
        {
          "output_type": "stream",
          "text": [
            "Requirement already satisfied: hrv-analysis in /usr/local/lib/python3.6/dist-packages (1.0.3)\n",
            "Requirement already satisfied: matplotlib>=2.2.2 in /usr/local/lib/python3.6/dist-packages (from hrv-analysis) (3.2.2)\n",
            "Requirement already satisfied: scipy>=1.1.0 in /usr/local/lib/python3.6/dist-packages (from hrv-analysis) (1.4.1)\n",
            "Requirement already satisfied: nolds>=0.4.1 in /usr/local/lib/python3.6/dist-packages (from hrv-analysis) (0.5.2)\n",
            "Requirement already satisfied: astropy>=3.0.4 in /usr/local/lib/python3.6/dist-packages (from hrv-analysis) (4.0.1.post1)\n",
            "Requirement already satisfied: numpy>=1.15.1 in /usr/local/lib/python3.6/dist-packages (from hrv-analysis) (1.18.5)\n",
            "Requirement already satisfied: pandas>=0.23.4 in /usr/local/lib/python3.6/dist-packages (from hrv-analysis) (1.0.5)\n",
            "Requirement already satisfied: cycler>=0.10 in /usr/local/lib/python3.6/dist-packages (from matplotlib>=2.2.2->hrv-analysis) (0.10.0)\n",
            "Requirement already satisfied: python-dateutil>=2.1 in /usr/local/lib/python3.6/dist-packages (from matplotlib>=2.2.2->hrv-analysis) (2.8.1)\n",
            "Requirement already satisfied: pyparsing!=2.0.4,!=2.1.2,!=2.1.6,>=2.0.1 in /usr/local/lib/python3.6/dist-packages (from matplotlib>=2.2.2->hrv-analysis) (2.4.7)\n",
            "Requirement already satisfied: kiwisolver>=1.0.1 in /usr/local/lib/python3.6/dist-packages (from matplotlib>=2.2.2->hrv-analysis) (1.2.0)\n",
            "Requirement already satisfied: future in /usr/local/lib/python3.6/dist-packages (from nolds>=0.4.1->hrv-analysis) (0.16.0)\n",
            "Requirement already satisfied: setuptools in /usr/local/lib/python3.6/dist-packages (from nolds>=0.4.1->hrv-analysis) (49.1.0)\n",
            "Requirement already satisfied: pytz>=2017.2 in /usr/local/lib/python3.6/dist-packages (from pandas>=0.23.4->hrv-analysis) (2018.9)\n",
            "Requirement already satisfied: six in /usr/local/lib/python3.6/dist-packages (from cycler>=0.10->matplotlib>=2.2.2->hrv-analysis) (1.12.0)\n"
          ],
          "name": "stdout"
        }
      ]
    },
    {
      "cell_type": "code",
      "metadata": {
        "id": "d335vKj5nWhw",
        "colab_type": "code",
        "colab": {}
      },
      "source": [
        "import os\n",
        "import sys\n",
        "import pandas as pd\n",
        "import matplotlib.pyplot as plt\n",
        "from matplotlib.patches import Ellipse\n",
        "import seaborn as sns\n",
        "import numpy as np\n",
        "import astropy\n",
        "import future\n",
        "#import nolds\n",
        "import scipy\n",
        "from scipy import signal\n",
        "from scipy.ndimage import label\n",
        "from scipy.stats import zscore\n",
        "from scipy.interpolate import interp1d\n",
        "from scipy.integrate import trapz\n",
        "import warnings\n",
        "import hrvanalysis\n",
        "from hrvanalysis import remove_outliers, remove_ectopic_beats,interpolate_nan_values, get_time_domain_features, get_nn_intervals"
      ],
      "execution_count": 21,
      "outputs": []
    },
    {
      "cell_type": "code",
      "metadata": {
        "id": "0tjNIGLApiMi",
        "colab_type": "code",
        "colab": {}
      },
      "source": [
        "FILENAME = '/content/MW2005000PDIEKG without header.txt'\n",
        "trial = pd.read_csv(FILENAME)\n",
        "plt.plot(trial['TIME'], trial[' \"ECG1-ECG2\"'])\n",
        "plt.xlabel('time(1/200 second)')\n",
        "plt.ylabel('EKG Value')\n",
        "plt.title('EKG Plot')\n",
        "plt.show()"
      ],
      "execution_count": null,
      "outputs": []
    },
    {
      "cell_type": "code",
      "metadata": {
        "id": "MjUami_XpVDp",
        "colab_type": "code",
        "colab": {}
      },
      "source": [
        "trial['heartrate'] = trial[' \"ECG1-ECG2\"'] # Quick fix for script"
      ],
      "execution_count": null,
      "outputs": []
    },
    {
      "cell_type": "code",
      "metadata": {
        "id": "DVG-hohJiMXF",
        "colab_type": "code",
        "colab": {}
      },
      "source": [
        "def detect_peaks(ecg_signal, threshold=0.3, qrs_filter=None):\n",
        "    '''\n",
        "    #Peak detection algorithm using cross corrrelation and threshold\n",
        "    '''\n",
        "    if qrs_filter is None:\n",
        "        # create default qrs filter, which is just a part of the sine function\n",
        "        t = np.linspace(1.5 * np.pi, 3.5 * np.pi, 15)\n",
        "        qrs_filter = np.sin(t)\n",
        "   \n",
        "    # normalize data\n",
        "    ecg_signal = (ecg_signal - ecg_signal.mean()) / ecg_signal.std()\n",
        "\n",
        "    # calculate cross correlation\n",
        "    similarity = np.correlate(ecg_signal, qrs_filter, mode=\"same\")\n",
        "    similarity = similarity / np.max(similarity)\n",
        "\n",
        "    # return peaks (values in ms) using threshold\n",
        "    return ecg_signal[similarity > threshold].index, similarity\n",
        "\n",
        "def get_plot_ranges(start=10, end=20, n=5):\n",
        "    '''\n",
        "     an iterator that divides into n or n+1 ranges.\n",
        "    - if end-start is divisible by steps, return n ranges\n",
        "    - if end-start is not divisible by steps, return n+1 ranges, where the last range is smaller and ends at n\n",
        "   \n",
        "     Example:\n",
        "    >> list(get_plot_ranges())\n",
        "    >> [(0.0, 3.0), (3.0, 6.0), (6.0, 9.0)]\n",
        "\n",
        "    '''\n",
        "    distance = end - start\n",
        "    for i in np.arange(start, end, np.floor(distance/n)):\n",
        "        yield (int(i), int(np.minimum(end, np.floor(distance/n) + i)))\n",
        "\n",
        "sampfrom = 10000\n",
        "sampto = 20000\n",
        "nr_plots = 1\n",
        "\n",
        "for start, stop in get_plot_ranges(sampfrom, sampto, nr_plots):\n",
        "    # get slice data of ECG data\n",
        "    cond_slice = (trial.index >= start) & (trial.index < stop)\n",
        "    ecg_slice = trial.heartrate[cond_slice]\n",
        "\n",
        "    # detect peaks\n",
        "    peaks, similarity = detect_peaks(ecg_slice, threshold=0.3)\n",
        "   \n",
        "    # plot similarity\n",
        "    plt.figure(figsize=(20, 15))\n",
        "\n",
        "    plt.subplot(211)\n",
        "    plt.title(\"ECG signal with found peaks\")\n",
        "    plt.plot(ecg_slice.index, ecg_slice, label=\"ECG\", color=\"#51A6D8\", linewidth=1)\n",
        "    plt.plot(peaks, np.repeat(600, peaks.shape[0]), label=\"peaks\", color=\"orange\", marker=\"o\", linestyle=\"None\")\n",
        "    plt.legend(loc=\"upper right\")\n",
        "    plt.xlabel(\"Time (milliseconds)\")\n",
        "    plt.ylabel(\"Amplitude (arbitrary unit)\")\n",
        "   \n",
        "    plt.subplot(212)\n",
        "    plt.title('Similarity with QRS template')\n",
        "    plt.plot(ecg_slice.index, similarity, label=\"Similarity with QRS filter\", color=\"olive\", linewidth=1)\n",
        "    plt.legend(loc=\"upper right\")\n",
        "    plt.xlabel(\"Time (milliseconds)\")\n",
        "    plt.ylabel(\"Similarity (normalized)\")"
      ],
      "execution_count": null,
      "outputs": []
    },
    {
      "cell_type": "code",
      "metadata": {
        "id": "XH5wFkkLrEH2",
        "colab_type": "code",
        "colab": {}
      },
      "source": [
        ""
      ],
      "execution_count": null,
      "outputs": []
    }
  ]
}